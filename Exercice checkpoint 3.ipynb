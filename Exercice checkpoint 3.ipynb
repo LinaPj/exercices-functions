{
 "cells": [
  {
   "cell_type": "markdown",
   "id": "b4bfb698",
   "metadata": {},
   "source": [
    "# Question 1\n",
    "\n",
    "#Write a Python function to find the Max of three numbers.\n",
    "\n",
    "#for example, the max of these three numbers 20, 35, 19 is 35\n"
   ]
  },
  {
   "cell_type": "code",
   "execution_count": 5,
   "id": "c7acd8af",
   "metadata": {},
   "outputs": [
    {
     "data": {
      "text/plain": [
       "8"
      ]
     },
     "execution_count": 5,
     "metadata": {},
     "output_type": "execute_result"
    }
   ],
   "source": [
    "def max(x,y,z):\n",
    "    if x>=y and x>=z:\n",
    "        return(x)\n",
    "    elif y>=x and y>=z:\n",
    "        return(y)\n",
    "    else:\n",
    "        return(z)\n",
    "        \n",
    "max(3,4,8)"
   ]
  },
  {
   "cell_type": "markdown",
   "id": "36d2178d",
   "metadata": {},
   "source": [
    "# Question 2\n",
    "\n",
    "#Write a function calculation() such that it can accept two variables and calculate the addition and subtraction of it.\n",
    "#And also it must return both addition and subtraction in a single return call\n",
    "\n",
    "#For example:\n",
    "\n",
    "#calculation(40, 10) should produce 50, 30"
   ]
  },
  {
   "cell_type": "code",
   "execution_count": 6,
   "id": "97db33db",
   "metadata": {},
   "outputs": [
    {
     "data": {
      "text/plain": [
       "(50, 30)"
      ]
     },
     "execution_count": 6,
     "metadata": {},
     "output_type": "execute_result"
    }
   ],
   "source": [
    "def calculation(a,b):\n",
    "    s=a+b\n",
    "    l=a-b\n",
    "    \n",
    "    return(s,l)\n",
    "\n",
    "calculation(40,10)"
   ]
  },
  {
   "cell_type": "markdown",
   "id": "3860ee5a",
   "metadata": {},
   "source": [
    "# Question 3\n",
    "\n",
    "#* Write a function that sums the elements of a list of integers.\n",
    "#* Write a function that multiplies the elements of an integer list.\n",
    "#* Use the two functions to sum the elements whose position is an even number (0,2,4…) an\n",
    "#integer list.\n",
    "#* Use the two functions to sum the elements whose position is an even number (0,2,4…) and multiply the rest.\n",
    "#Hint: Consider extracting two lists from a first list "
   ]
  },
  {
   "cell_type": "code",
   "execution_count": 24,
   "id": "00c19460",
   "metadata": {},
   "outputs": [
    {
     "data": {
      "text/plain": [
       "11"
      ]
     },
     "execution_count": 24,
     "metadata": {},
     "output_type": "execute_result"
    }
   ],
   "source": [
    "l=[2,4,3,2]\n",
    "def sommelist(l):\n",
    "    s=0\n",
    "    for i in range(len(l)):\n",
    "        s=s+l[i]\n",
    "        \n",
    "    return s \n",
    "\n",
    "sommelist(l)\n",
    "\n",
    "\n",
    "\n",
    "\n",
    "\n"
   ]
  },
  {
   "cell_type": "code",
   "execution_count": 25,
   "id": "4019360f",
   "metadata": {},
   "outputs": [
    {
     "data": {
      "text/plain": [
       "48"
      ]
     },
     "execution_count": 25,
     "metadata": {},
     "output_type": "execute_result"
    }
   ],
   "source": [
    "def multiply(l):\n",
    "    m=1\n",
    "    for i in range(len(l)):\n",
    "        m=m*l[i]\n",
    "        \n",
    "    return m \n",
    "\n",
    "\n",
    "multiply(l)\n"
   ]
  },
  {
   "cell_type": "code",
   "execution_count": 29,
   "id": "3c006b1e",
   "metadata": {},
   "outputs": [
    {
     "data": {
      "text/plain": [
       "(5, 8)"
      ]
     },
     "execution_count": 29,
     "metadata": {},
     "output_type": "execute_result"
    }
   ],
   "source": [
    "\n",
    "def sommem(l):\n",
    "    p=[]\n",
    "    I=[]\n",
    "    \n",
    "    for i in range(len(l)):\n",
    "        if i%2==0:\n",
    "            p.append(l[i])\n",
    "        else:\n",
    "            I.append(l[i]) # qjoute dans la liste p qui est vide, elle contient mnt les elemments des indices pairs\n",
    "                \n",
    "    return sommelist(p),multiply(I)\n",
    "\n",
    "#somme entre elements des indice pairs et somme des elements des indices impairs\n",
    "\n",
    "\n",
    "sommem(l)  "
   ]
  },
  {
   "cell_type": "markdown",
   "id": "68c22df8",
   "metadata": {},
   "source": [
    "# \n",
    "#Question 4\n",
    "\n",
    "#Write a Python program that accepts a hyphen-separated sequence of words\n",
    "#as input and prints the words in a hyphen-separated sequence after sorting them alphabetically.\n",
    "\n",
    "#Sample Items : green-red-yellow-black-white\n",
    "#Expected Result : black-green-red-white-yellow\n",
    "\n",
    "#Hint : There's a split function to separate your input string into words and a sort function to sort.\n"
   ]
  },
  {
   "cell_type": "code",
   "execution_count": 36,
   "id": "3d3251b3",
   "metadata": {},
   "outputs": [
    {
     "name": "stdout",
     "output_type": "stream",
     "text": [
      "green-red-yellow-black-white\n",
      "black-green-red-white-yellow\n"
     ]
    }
   ],
   "source": [
    "def ch():\n",
    "    i=input().split('-')\n",
    "    i.sort()\n",
    "\n",
    "    print('-'.join(i)) #triage ordre alphabetique\n",
    "ch() "
   ]
  },
  {
   "cell_type": "markdown",
   "id": "6066c889",
   "metadata": {},
   "source": [
    "\n",
    "\n",
    "#Question 5 (Bonus)\n",
    "\n",
    "#Write a function that calculates and prints the value according to the given formula: Q = Square root o\n",
    "#of [(2 * C * D)/H] Following are the fixed values of C and H: C is 50. H is 30. D is the variable whose values should\n",
    "    #be input to your program in a comma-separated sequence. Example Let us assume the following comma separated input \n",
    "    #sequence is given to the function: 100,150,180 The output of the program should be: 18,22,24 \n",
    "\n",
    "#Hints: If the output received is in decimal form, it should be rounded off to its \n",
    "    #nearest value (for example, if the output received is 26.0, it should be printed as 26) "
   ]
  },
  {
   "cell_type": "code",
   "execution_count": 44,
   "id": "f1ddd8dd",
   "metadata": {},
   "outputs": [
    {
     "name": "stdout",
     "output_type": "stream",
     "text": [
      "entrer la valeur D:9,0,7\n",
      "[5, 0, 5]\n"
     ]
    }
   ],
   "source": [
    "import math\n",
    "def calcul():\n",
    "    n=input(\"entrer la valeur D:\")\n",
    "    n=n.split(',')\n",
    "    res=[]\n",
    "    for D in n:\n",
    "        Q=round(math.sqrt(2*50*int(D)/30))\n",
    "        res.append(Q)\n",
    "    print(res)\n",
    "        \n",
    "        \n",
    "calcul()\n"
   ]
  },
  {
   "cell_type": "code",
   "execution_count": null,
   "id": "6b3e29b7",
   "metadata": {},
   "outputs": [],
   "source": []
  }
 ],
 "metadata": {
  "kernelspec": {
   "display_name": "Python 3 (ipykernel)",
   "language": "python",
   "name": "python3"
  },
  "language_info": {
   "codemirror_mode": {
    "name": "ipython",
    "version": 3
   },
   "file_extension": ".py",
   "mimetype": "text/x-python",
   "name": "python",
   "nbconvert_exporter": "python",
   "pygments_lexer": "ipython3",
   "version": "3.9.7"
  }
 },
 "nbformat": 4,
 "nbformat_minor": 5
}
